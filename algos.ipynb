{
 "cells": [
  {
   "cell_type": "code",
   "execution_count": 24,
   "metadata": {},
   "outputs": [],
   "source": [
    "import pandas as pd\n",
    "from utils.utils import get_user_station, get_user_dates, coef\n",
    "import datetime\n",
    "from datetime import timedelta"
   ]
  },
  {
   "cell_type": "code",
   "execution_count": 3,
   "metadata": {},
   "outputs": [
    {
     "name": "stderr",
     "output_type": "stream",
     "text": [
      "c:\\Users\\pasin\\DS\\Клуб\\nuclear-hack\\venv\\lib\\site-packages\\urllib3\\connectionpool.py:1103: InsecureRequestWarning: Unverified HTTPS request is being made to host 'ngw.devices.sberbank.ru'. Adding certificate verification is strongly advised. See: https://urllib3.readthedocs.io/en/latest/advanced-usage.html#tls-warnings\n",
      "  warnings.warn(\n",
      "c:\\Users\\pasin\\DS\\Клуб\\nuclear-hack\\venv\\lib\\site-packages\\urllib3\\connectionpool.py:1103: InsecureRequestWarning: Unverified HTTPS request is being made to host 'gigachat.devices.sberbank.ru'. Adding certificate verification is strongly advised. See: https://urllib3.readthedocs.io/en/latest/advanced-usage.html#tls-warnings\n",
      "  warnings.warn(\n"
     ]
    }
   ],
   "source": [
    "request = \"Привет, предскажи пассажиропоток на Павелецкой за прошлый месяц\"\n",
    "\n",
    "dates = get_user_dates(user_message=request, date_now=\"2023-09-09\")\n",
    "station = get_user_station(request)"
   ]
  },
  {
   "cell_type": "code",
   "execution_count": 9,
   "metadata": {},
   "outputs": [
    {
     "data": {
      "text/plain": [
       "('2023-07-09 00:00', '2023-08-09 00:00')"
      ]
     },
     "execution_count": 9,
     "metadata": {},
     "output_type": "execute_result"
    }
   ],
   "source": [
    "dates[\"start_date\"], dates[\"end_date\"]"
   ]
  },
  {
   "cell_type": "code",
   "execution_count": 23,
   "metadata": {},
   "outputs": [
    {
     "name": "stdout",
     "output_type": "stream",
     "text": [
      "00:00\n",
      "1\n",
      "2023-07-10\n",
      "2023-07-11\n",
      "2023-07-12\n",
      "2023-07-13\n",
      "2023-07-14\n",
      "2023-07-15\n",
      "2023-07-16\n",
      "2023-07-17\n",
      "2023-07-18\n",
      "2023-07-19\n",
      "2023-07-20\n",
      "2023-07-21\n",
      "2023-07-22\n",
      "2023-07-23\n",
      "2023-07-24\n",
      "2023-07-25\n",
      "2023-07-26\n",
      "2023-07-27\n",
      "2023-07-28\n",
      "2023-07-29\n",
      "2023-07-30\n",
      "2023-07-31\n",
      "2023-08-01\n",
      "2023-08-02\n",
      "2023-08-03\n",
      "2023-08-04\n",
      "2023-08-05\n",
      "2023-08-06\n",
      "2023-08-07\n",
      "2023-08-08\n",
      "2023-08-09\n",
      "2023-08-10\n"
     ]
    }
   ],
   "source": [
    "start_date, end_date = dates[\"start_date\"], dates[\"end_date\"]\n",
    "\n",
    "start_time = start_date.split(' ')[1]\n",
    "end_time = end_date.split(' ')[1]\n",
    "start_date = datetime.datetime.strptime(start_date, '%Y-%m-%d %H:%M').date()\n",
    "end_date = datetime.datetime.strptime(end_date, '%Y-%m-%d %H:%M').date()\n",
    "current_date = start_date\n",
    "\n",
    "while current_date <= end_date:\n",
    "    current_date.strftime('%Y-%m-%d %H:%M')\n",
    "    coef = 1\n",
    "    # если начало периода - не начало дня \n",
    "    if current_date == start_date and str(start_time)!=\"00:00\": \n",
    "        coef(current_date, start_time)\n",
    "    current_date += timedelta(days=1)\n",
    "    print(current_date)"
   ]
  }
 ],
 "metadata": {
  "kernelspec": {
   "display_name": "venv",
   "language": "python",
   "name": "python3"
  },
  "language_info": {
   "codemirror_mode": {
    "name": "ipython",
    "version": 3
   },
   "file_extension": ".py",
   "mimetype": "text/x-python",
   "name": "python",
   "nbconvert_exporter": "python",
   "pygments_lexer": "ipython3",
   "version": "3.9.7"
  }
 },
 "nbformat": 4,
 "nbformat_minor": 2
}
