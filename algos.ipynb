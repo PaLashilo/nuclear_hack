{
 "cells": [
  {
   "cell_type": "code",
   "execution_count": 1,
   "metadata": {},
   "outputs": [
    {
     "name": "stderr",
     "output_type": "stream",
     "text": [
      "c:\\Users\\pasin\\DS\\Клуб\\nuclear-hack\\venv\\lib\\site-packages\\fuzzywuzzy\\fuzz.py:11: UserWarning: Using slow pure-python SequenceMatcher. Install python-Levenshtein to remove this warning\n",
      "  warnings.warn('Using slow pure-python SequenceMatcher. Install python-Levenshtein to remove this warning')\n"
     ]
    }
   ],
   "source": [
    "import pandas as pd\n",
    "from utils.utils import get_user_station, get_user_dates, coef\n",
    "import datetime\n",
    "from datetime import timedelta"
   ]
  },
  {
   "cell_type": "code",
   "execution_count": 14,
   "metadata": {},
   "outputs": [
    {
     "name": "stderr",
     "output_type": "stream",
     "text": [
      "c:\\Users\\pasin\\DS\\Клуб\\nuclear-hack\\venv\\lib\\site-packages\\urllib3\\connectionpool.py:1103: InsecureRequestWarning: Unverified HTTPS request is being made to host 'ngw.devices.sberbank.ru'. Adding certificate verification is strongly advised. See: https://urllib3.readthedocs.io/en/latest/advanced-usage.html#tls-warnings\n",
      "  warnings.warn(\n",
      "c:\\Users\\pasin\\DS\\Клуб\\nuclear-hack\\venv\\lib\\site-packages\\urllib3\\connectionpool.py:1103: InsecureRequestWarning: Unverified HTTPS request is being made to host 'gigachat.devices.sberbank.ru'. Adding certificate verification is strongly advised. See: https://urllib3.readthedocs.io/en/latest/advanced-usage.html#tls-warnings\n",
      "  warnings.warn(\n"
     ]
    }
   ],
   "source": [
    "request = \"Привет, предскажи пассажиропоток на Павелецкой за промежуток с 28 января 7:00 по 27 февраля текущего года\"\n",
    "\n",
    "dates = get_user_dates(user_message=request, date_now=\"2023-09-09\")\n",
    "station = get_user_station(request)"
   ]
  },
  {
   "cell_type": "code",
   "execution_count": 15,
   "metadata": {},
   "outputs": [
    {
     "data": {
      "text/plain": [
       "('2023-01-28 07:00', '2023-02-27 23:59')"
      ]
     },
     "execution_count": 15,
     "metadata": {},
     "output_type": "execute_result"
    }
   ],
   "source": [
    "dates[\"start_date\"], dates[\"end_date\"]"
   ]
  },
  {
   "cell_type": "code",
   "execution_count": 16,
   "metadata": {},
   "outputs": [
    {
     "name": "stdout",
     "output_type": "stream",
     "text": [
      "0.9169926119078662\n",
      "1.0\n",
      "30.916992611907865\n"
     ]
    }
   ],
   "source": [
    "start_date, end_date = dates[\"start_date\"], dates[\"end_date\"]\n",
    "\n",
    "start_time = start_date.split(' ')[1]\n",
    "end_time = end_date.split(' ')[1]\n",
    "start_date = datetime.datetime.strptime(start_date, '%Y-%m-%d %H:%M').date()\n",
    "end_date = datetime.datetime.strptime(end_date, '%Y-%m-%d %H:%M').date()\n",
    "current_date = start_date\n",
    "\n",
    "result = 0\n",
    "\n",
    "while current_date <= end_date:\n",
    "    current_date.strftime('%Y-%m-%d %H:%M')\n",
    "    hour_coef = 1\n",
    "\n",
    "    # если для начала периода указано время\n",
    "    if current_date == start_date and start_time!=\"00:00\":\n",
    "        hour_coef = coef(current_date, start=start_time)\n",
    "        print(hour_coef)\n",
    "    \n",
    "    # если для конца периода указано время \n",
    "    if current_date == end_date and end_time!=\"00:00\":\n",
    "        hour_coef = coef(current_date, end=end_time)\n",
    "        print(hour_coef)\n",
    "\n",
    "    day_traffic = 8999\n",
    "    result += day_traffic * hour_coef\n",
    "\n",
    "\n",
    "\n",
    "    current_date += timedelta(days=1)\n",
    "\n",
    "print(result)"
   ]
  },
  {
   "cell_type": "code",
   "execution_count": null,
   "metadata": {},
   "outputs": [],
   "source": []
  }
 ],
 "metadata": {
  "kernelspec": {
   "display_name": "venv",
   "language": "python",
   "name": "python3"
  },
  "language_info": {
   "codemirror_mode": {
    "name": "ipython",
    "version": 3
   },
   "file_extension": ".py",
   "mimetype": "text/x-python",
   "name": "python",
   "nbconvert_exporter": "python",
   "pygments_lexer": "ipython3",
   "version": "3.9.7"
  }
 },
 "nbformat": 4,
 "nbformat_minor": 2
}
