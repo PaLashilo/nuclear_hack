{
 "cells": [
  {
   "cell_type": "code",
   "execution_count": 1,
   "metadata": {},
   "outputs": [],
   "source": [
    "import json\n",
    "from utils.utils import get_chat_station, get_lev\n",
    "from fuzzywuzzy import fuzz\n",
    "from fuzzywuzzy import process\n",
    "import pandas as pd"
   ]
  },
  {
   "cell_type": "code",
   "execution_count": 2,
   "metadata": {},
   "outputs": [],
   "source": [
    "auth_key = \"MTQ1Zjk2YTMtOWI2YS00MzUyLWIwN2QtZDkxZGU3N2UzMTg1OmM0YmRkOTIzLWY2ZDctNDk4MC04OTBjLWM2ZDk0NzQ0YmRhYQ==\""
   ]
  },
  {
   "cell_type": "code",
   "execution_count": 37,
   "metadata": {},
   "outputs": [
    {
     "name": "stderr",
     "output_type": "stream",
     "text": [
      "/Users/alexander/Учёба/ХАКАТОНЫ/Nuclear Hack/nuclear-hack/.venv/lib/python3.11/site-packages/urllib3/connectionpool.py:1103: InsecureRequestWarning: Unverified HTTPS request is being made to host 'ngw.devices.sberbank.ru'. Adding certificate verification is strongly advised. See: https://urllib3.readthedocs.io/en/latest/advanced-usage.html#tls-warnings\n",
      "  warnings.warn(\n",
      "/Users/alexander/Учёба/ХАКАТОНЫ/Nuclear Hack/nuclear-hack/.venv/lib/python3.11/site-packages/urllib3/connectionpool.py:1103: InsecureRequestWarning: Unverified HTTPS request is being made to host 'gigachat.devices.sberbank.ru'. Adding certificate verification is strongly advised. See: https://urllib3.readthedocs.io/en/latest/advanced-usage.html#tls-warnings\n",
      "  warnings.warn(\n"
     ]
    },
    {
     "data": {
      "text/plain": [
       "'Для выполнения этой задачи, я должен проанализировать user_message и определить запрашиваемый временной интервал. Затем я должен сформировать ответ в формате JSON с полями \\'start_date\\' и \\'end_date\\'.\\n\\nВ данном случае, user_message содержит фразу \"академика Янгеля за вчера\". Это означает, что запрашиваемый временной интервал - это вчерашний день.\\n\\nДля определения начала и конца запрашиваемого периода, я должен использовать текущую дату. В данном случае, текущая дата - это 2022-09-01.\\n\\nНачало запрашиваемого периода будет 2022-09-01, а конец - 2022-09-02.\\n\\nОтвет в формате JSON будет выглядеть следующим образом:\\n\\n{\\n  \"start_date\": \"2022-09-01\",\\n  \"end_date\": \"2022-09-02\"\\n}'"
      ]
     },
     "execution_count": 37,
     "metadata": {},
     "output_type": "execute_result"
    }
   ],
   "source": [
    "message = {\n",
    "    \"user_message\": \n",
    "\n",
    "}\n",
    "\n",
    "\n",
    "# Теперь передаем словарь в функцию\n",
    "station_json = get_chat_station(auth_key=auth_key, user_message=)\n",
    "station_json\n"
   ]
  },
  {
   "cell_type": "code",
   "execution_count": 15,
   "metadata": {},
   "outputs": [
    {
     "name": "stderr",
     "output_type": "stream",
     "text": [
      "/Users/alexander/Учёба/ХАКАТОНЫ/Nuclear Hack/nuclear-hack/.venv/lib/python3.11/site-packages/urllib3/connectionpool.py:1103: InsecureRequestWarning: Unverified HTTPS request is being made to host 'ngw.devices.sberbank.ru'. Adding certificate verification is strongly advised. See: https://urllib3.readthedocs.io/en/latest/advanced-usage.html#tls-warnings\n",
      "  warnings.warn(\n",
      "/Users/alexander/Учёба/ХАКАТОНЫ/Nuclear Hack/nuclear-hack/.venv/lib/python3.11/site-packages/urllib3/connectionpool.py:1103: InsecureRequestWarning: Unverified HTTPS request is being made to host 'gigachat.devices.sberbank.ru'. Adding certificate verification is strongly advised. See: https://urllib3.readthedocs.io/en/latest/advanced-usage.html#tls-warnings\n",
      "  warnings.warn(\n"
     ]
    },
    {
     "data": {
      "text/plain": [
       "'{\"station\": \"академика янгеля\"}'"
      ]
     },
     "execution_count": 15,
     "metadata": {},
     "output_type": "execute_result"
    }
   ],
   "source": [
    "message = \"\"\"\n",
    "{\n",
    "    \"date_now\": \"2022-09-01\",\n",
    "    \"user_message: 'академика янгеля за этот год',\n",
    "    \"task\": \"используя информацию из user_message вычлени название станции метро и отправь его в формате json в виде: {\"station\" : \"название станции из user_message\"}\".\n",
    "}\n",
    "\"\"\"\n",
    "\n",
    "station_json = get_chat_station(auth_key=auth_key, user_message=message)\n",
    "station_json"
   ]
  },
  {
   "cell_type": "code",
   "execution_count": 18,
   "metadata": {},
   "outputs": [
    {
     "name": "stderr",
     "output_type": "stream",
     "text": [
      "/Users/alexander/Учёба/ХАКАТОНЫ/Nuclear Hack/nuclear-hack/.venv/lib/python3.11/site-packages/urllib3/connectionpool.py:1103: InsecureRequestWarning: Unverified HTTPS request is being made to host 'ngw.devices.sberbank.ru'. Adding certificate verification is strongly advised. See: https://urllib3.readthedocs.io/en/latest/advanced-usage.html#tls-warnings\n",
      "  warnings.warn(\n",
      "/Users/alexander/Учёба/ХАКАТОНЫ/Nuclear Hack/nuclear-hack/.venv/lib/python3.11/site-packages/urllib3/connectionpool.py:1103: InsecureRequestWarning: Unverified HTTPS request is being made to host 'gigachat.devices.sberbank.ru'. Adding certificate verification is strongly advised. See: https://urllib3.readthedocs.io/en/latest/advanced-usage.html#tls-warnings\n",
      "  warnings.warn(\n"
     ]
    },
    {
     "data": {
      "text/plain": [
       "'На основе вашего запроса, я могу предположить, что вы хотите, чтобы я извлекла единицу измерения предоставления данных и количество времени из сообщения пользователя и отправила их в виде JSON. Если в сообщении пользователя есть фраза \"за этот год\", то я должна вычислить количество времени на основе последней даты в date_now.\\n\\nВот как я могу это сделать:\\n\\n1. Извлеките единицу измерения предоставления данных из сообщения пользователя. В вашем случае, это \"академика Янгеля\".\\n\\n2. Извлеките количество времени из сообщения пользователя. В вашем случае, это \"за этот год\".\\n\\n3. Если в сообщении пользователя есть фраза \"за этот год\", то вычислите количество времени на основе последней даты в date_now.\\n\\n4. Отправьте JSON в виде {\"unit\": \"академика Янгеля\", \"quantity\": \"год\"}.\\n\\n5. Если в сообщении пользователя есть фраза \"за этот месяц\", то вычислите количество времени на основе последней даты в date_now.\\n\\n6. Отправьте JSON в виде {\"unit\": \"месяц\", \"quantity\": \"месяц\"}.\\n\\n7. Если в сообщении пользователя есть фраза \"за эту неделю\", то вычислите количество времени на основе последней даты в date_now.\\n\\n8. Отправьте JSON в виде {\"unit\": \"неделя\", \"quantity\": \"неделя\"}.\\n\\n9. Если в сообщении пользователя есть фраза \"за этот день\", то вычислите количество времени на основе последней даты в date_now.\\n\\n10. Отправьте JSON в виде {\"unit\": \"день\", \"quantity\": \"день\"}.\\n\\n11. Если в сообщении пользователя есть фраза \"за этот час\", то вычислите количество времени на основе последней даты в date_now.\\n\\n12. Отправьте JSON в виде {\"unit\": \"час\", \"quantity\": \"час\"}.\\n\\n13. Если в сообщении пользователя есть фраза \"за этот год\", то вычислите количество времени на основе последней даты в date_now.\\n\\n14. Отправьте JSON в виде {\"unit\": \"год\", \"quantity\": \"год\"}.\\n\\n15. Если в сообщении пользователя есть фраза \"за этот месяц\", то вычислите количество времени на основе последней даты в date_now.\\n'"
      ]
     },
     "execution_count": 18,
     "metadata": {},
     "output_type": "execute_result"
    }
   ],
   "source": [
    "message = \"\"\"\n",
    "{\n",
    "    \"date_now\": \"2022-09-01\",\n",
    "    \"user_message: 'академика янгеля за этот год',\n",
    "    \"task\": \"используя информацию из user_message вычлении единицу измерения предоставления данных и количество времени, \n",
    "    и отправь json в виде {\"unit\": \"\", \"quantity\":}, unit строго в виде числа, а quantity в виде год/неделя/месяц, если в user_message\n",
    "    есть фраза за этот и далее промежуток времени, то вычисляй на основе последней даты в date_now {\n",
    "    \"unit\": \"количество_времени_в_числовом_формате\",\n",
    "    \"quantity\": \"тип_временного_интервала\"}\n",
    "\"\n",
    "}\n",
    "\"\"\"\n",
    "\n",
    "station_json = get_chat_station(auth_key=auth_key, user_message=message)\n",
    "station_json"
   ]
  },
  {
   "cell_type": "code",
   "execution_count": null,
   "metadata": {},
   "outputs": [],
   "source": [
    "prompt = \"\"\"Дан текст запроса пользователя в переменной 'user_message', например: 'академика Янгеля за этот год'. \n",
    "        Требуется извлечь из запроса название станции, период прогнозирования (в днях, неделях, месяцах или годах) \n",
    "        и численное значение этого периода. Период прогнозирования должен быть преобразован в конкретные даты начала и окончания, \n",
    "        если в фразе присутствует 'за последний год/месяц/неделю', считать от даты в переменной 'date_now'. \"\n",
    "        На основании этих данных, сформируй JSON-объект с полями 'station', 'forecast_period', 'start_date', 'end_date', 'unit'. \"\n",
    "        Значение 'unit' должно быть на русском языке ('день', 'неделя', 'месяц', 'год'). Убедитесь, что 'forecast_period' указывается только числом. \"\n",
    "        Пример: если запрос 'Привет, выведи мне пассажиропоток на станции метро Водный стадион за последний месяц', \"\n",
    "        то JSON должен выглядеть так: {'station': 'Водный стадион', 'forecast_period': '1', 'start_date': '2022-08-01', 'end_date': '2022-09-01', 'unit': 'месяц'}.\"\"\""
   ]
  },
  {
   "cell_type": "code",
   "execution_count": null,
   "metadata": {},
   "outputs": [],
   "source": [
    "with open('moscow_metro.json', 'r') as f:\n",
    "    metro_json = json.load(f)"
   ]
  },
  {
   "cell_type": "code",
   "execution_count": null,
   "metadata": {},
   "outputs": [
    {
     "ename": "NameError",
     "evalue": "name 'station' is not defined",
     "output_type": "error",
     "traceback": [
      "\u001b[0;31m---------------------------------------------------------------------------\u001b[0m",
      "\u001b[0;31mNameError\u001b[0m                                 Traceback (most recent call last)",
      "File \u001b[0;32m<timed eval>:1\u001b[0m\n",
      "\u001b[0;31mNameError\u001b[0m: name 'station' is not defined"
     ]
    }
   ],
   "source": [
    "%%time\n",
    "\n",
    "get_lev(metro_json, station)"
   ]
  }
 ],
 "metadata": {
  "kernelspec": {
   "display_name": ".venv",
   "language": "python",
   "name": "python3"
  },
  "language_info": {
   "codemirror_mode": {
    "name": "ipython",
    "version": 3
   },
   "file_extension": ".py",
   "mimetype": "text/x-python",
   "name": "python",
   "nbconvert_exporter": "python",
   "pygments_lexer": "ipython3",
   "version": "3.11.6"
  }
 },
 "nbformat": 4,
 "nbformat_minor": 2
}
