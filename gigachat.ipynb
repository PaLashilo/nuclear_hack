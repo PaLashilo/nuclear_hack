{
 "cells": [
  {
   "cell_type": "code",
   "execution_count": 8,
   "metadata": {},
   "outputs": [],
   "source": [
    "import json\n",
    "from utils.utils import get_chat_station, get_lev\n",
    "from fuzzywuzzy import fuzz\n",
    "from fuzzywuzzy import process\n",
    "import pandas as pd"
   ]
  },
  {
   "cell_type": "code",
   "execution_count": 9,
   "metadata": {},
   "outputs": [],
   "source": [
    "auth_key = \"MTQ1Zjk2YTMtOWI2YS00MzUyLWIwN2QtZDkxZGU3N2UzMTg1OmM0YmRkOTIzLWY2ZDctNDk4MC04OTBjLWM2ZDk0NzQ0YmRhYQ==\""
   ]
  },
  {
   "cell_type": "code",
   "execution_count": 22,
   "metadata": {},
   "outputs": [
    {
     "name": "stderr",
     "output_type": "stream",
     "text": [
      "/Users/alexander/Учёба/ХАКАТОНЫ/Nuclear Hack/nuclear-hack/.venv/lib/python3.11/site-packages/urllib3/connectionpool.py:1103: InsecureRequestWarning: Unverified HTTPS request is being made to host 'ngw.devices.sberbank.ru'. Adding certificate verification is strongly advised. See: https://urllib3.readthedocs.io/en/latest/advanced-usage.html#tls-warnings\n",
      "  warnings.warn(\n",
      "/Users/alexander/Учёба/ХАКАТОНЫ/Nuclear Hack/nuclear-hack/.venv/lib/python3.11/site-packages/urllib3/connectionpool.py:1103: InsecureRequestWarning: Unverified HTTPS request is being made to host 'gigachat.devices.sberbank.ru'. Adding certificate verification is strongly advised. See: https://urllib3.readthedocs.io/en/latest/advanced-usage.html#tls-warnings\n",
      "  warnings.warn(\n"
     ]
    },
    {
     "name": "stdout",
     "output_type": "stream",
     "text": [
      "{\"station\": \"академика янгеля\", \"transport_type\": \"метро\", \"forecast_period\": \"год\", \"unit\": \"год\"}\n"
     ]
    }
   ],
   "source": [
    "message = \"\"\"{\"date_now\": \"2022-09-01\",\n",
    "    \"user_message\": \"академика янгеля за этот год\"},\n",
    "            \"task\": \"Дан текст запроса пользователя в переменной 'user_message'. \n",
    "Требуется извлечь из запроса название станции, тип транспорта (метро или МЦК), \n",
    "период прогнозирования (в днях, неделях, месяцах или годах) и численное значение этого периода. \n",
    "На основании этих данных, сформируй JSON-объект с полями 'station', 'transport_type', 'forecast_period', \n",
    "'unit', где 'transport_type' может быть 'метро' или 'МЦК', 'unit' указывает единицу времени ('день', 'неделя', 'месяц', 'год'). \n",
    "Например, если бы запрос был 'Привет, выведи мне пассажиропоток на станции метро Водный стадион за предыдущий месяц', JSON должен выглядеть так: \n",
    "{'station': 'Водный стадион', 'transport_type': 'метро', 'forecast_period': '1', 'unit': 'месяц'}}.\"\"\"\n",
    "\n",
    "station_json = get_chat_station(auth_key=auth_key, user_message=message)\n",
    "print(station_json)"
   ]
  },
  {
   "cell_type": "code",
   "execution_count": 4,
   "metadata": {},
   "outputs": [
    {
     "data": {
      "text/plain": [
       "'\\n\"prompt\": \"Дан текст запроса пользователя в user_message.\\nТребуется извлечь из запроса название станции метро, период прогнозирования (в днях, неделях, месяцах или годах) и численное значение этого периода. \\nНа основании этих данных, сформируй JSON-объект с полями \\'station\\', \\'forecast_period\\', \\'unit\\', где \\'unit\\'\\n указывает единицу времени (\\'день\\', \\'неделя\\', \\'месяц\\', \\'год\\'). Например, если бы запрос был \\'1 день назад для станции Водный стадион\\',\\n JSON должен выглядеть так: {\\'station\\': \\'Водный стадион\\', \\'forecast_period\\': \\'1\\', \\'unit\\': \\'день\\'}\",\\n'"
      ]
     },
     "execution_count": 4,
     "metadata": {},
     "output_type": "execute_result"
    }
   ],
   "source": [
    "\"\"\"Дан текст запроса пользователя в переменной 'user_message'. \n",
    "Требуется извлечь из запроса название станции, тип транспорта (метро или МЦК), \n",
    "период прогнозирования (в днях, неделях, месяцах или годах) и численное значение этого периода. \n",
    "На основании этих данных, сформируй JSON-объект с полями 'station', 'transport_type', 'forecast_period', \n",
    "'unit', где 'transport_type' может быть 'метро' или 'МЦК', 'unit' указывает единицу времени ('день', 'неделя', 'месяц', 'год'). \n",
    "Например, если бы запрос был 'Привет, выведи мне пассажиропоток на станции метро Водный стадион за предыдущий месяц', JSON должен выглядеть так: \n",
    "{'station': 'Водный стадион', 'transport_type': 'метро', 'forecast_period': '1', 'unit': 'месяц'}.\"\"\""
   ]
  },
  {
   "cell_type": "code",
   "execution_count": 5,
   "metadata": {},
   "outputs": [],
   "source": [
    "with open('moscow_metro.json', 'r') as f:\n",
    "    metro_json = json.load(f)"
   ]
  },
  {
   "cell_type": "code",
   "execution_count": 6,
   "metadata": {},
   "outputs": [
    {
     "name": "stdout",
     "output_type": "stream",
     "text": [
      "CPU times: user 13.4 ms, sys: 620 µs, total: 14 ms\n",
      "Wall time: 13.7 ms\n"
     ]
    },
    {
     "data": {
      "text/html": [
       "<div>\n",
       "<style scoped>\n",
       "    .dataframe tbody tr th:only-of-type {\n",
       "        vertical-align: middle;\n",
       "    }\n",
       "\n",
       "    .dataframe tbody tr th {\n",
       "        vertical-align: top;\n",
       "    }\n",
       "\n",
       "    .dataframe thead th {\n",
       "        text-align: right;\n",
       "    }\n",
       "</style>\n",
       "<table border=\"1\" class=\"dataframe\">\n",
       "  <thead>\n",
       "    <tr style=\"text-align: right;\">\n",
       "      <th></th>\n",
       "      <th>station</th>\n",
       "      <th>lev</th>\n",
       "    </tr>\n",
       "  </thead>\n",
       "  <tbody>\n",
       "    <tr>\n",
       "      <th>62</th>\n",
       "      <td>Водный стадион</td>\n",
       "      <td>90</td>\n",
       "    </tr>\n",
       "    <tr>\n",
       "      <th>192</th>\n",
       "      <td>Тёплый стан</td>\n",
       "      <td>58</td>\n",
       "    </tr>\n",
       "    <tr>\n",
       "      <th>46</th>\n",
       "      <td>Москва-Сити</td>\n",
       "      <td>47</td>\n",
       "    </tr>\n",
       "    <tr>\n",
       "      <th>273</th>\n",
       "      <td>Москва-Сити</td>\n",
       "      <td>47</td>\n",
       "    </tr>\n",
       "    <tr>\n",
       "      <th>41</th>\n",
       "      <td>Охотный ряд</td>\n",
       "      <td>47</td>\n",
       "    </tr>\n",
       "    <tr>\n",
       "      <th>...</th>\n",
       "      <td>...</td>\n",
       "      <td>...</td>\n",
       "    </tr>\n",
       "    <tr>\n",
       "      <th>9</th>\n",
       "      <td>Плющиха</td>\n",
       "      <td>8</td>\n",
       "    </tr>\n",
       "    <tr>\n",
       "      <th>290</th>\n",
       "      <td>Ольховая</td>\n",
       "      <td>8</td>\n",
       "    </tr>\n",
       "    <tr>\n",
       "      <th>266</th>\n",
       "      <td>Лужники</td>\n",
       "      <td>8</td>\n",
       "    </tr>\n",
       "    <tr>\n",
       "      <th>250</th>\n",
       "      <td>Шелепиха</td>\n",
       "      <td>7</td>\n",
       "    </tr>\n",
       "    <tr>\n",
       "      <th>280</th>\n",
       "      <td>Шелепиха</td>\n",
       "      <td>7</td>\n",
       "    </tr>\n",
       "  </tbody>\n",
       "</table>\n",
       "<p>305 rows × 2 columns</p>\n",
       "</div>"
      ],
      "text/plain": [
       "            station  lev\n",
       "62   Водный стадион   90\n",
       "192     Тёплый стан   58\n",
       "46      Москва-Сити   47\n",
       "273     Москва-Сити   47\n",
       "41      Охотный ряд   47\n",
       "..              ...  ...\n",
       "9           Плющиха    8\n",
       "290        Ольховая    8\n",
       "266         Лужники    8\n",
       "250        Шелепиха    7\n",
       "280        Шелепиха    7\n",
       "\n",
       "[305 rows x 2 columns]"
      ]
     },
     "execution_count": 6,
     "metadata": {},
     "output_type": "execute_result"
    }
   ],
   "source": [
    "%%time\n",
    "\n",
    "get_lev(metro_json, station)"
   ]
  }
 ],
 "metadata": {
  "kernelspec": {
   "display_name": ".venv",
   "language": "python",
   "name": "python3"
  },
  "language_info": {
   "codemirror_mode": {
    "name": "ipython",
    "version": 3
   },
   "file_extension": ".py",
   "mimetype": "text/x-python",
   "name": "python",
   "nbconvert_exporter": "python",
   "pygments_lexer": "ipython3",
   "version": "3.11.6"
  }
 },
 "nbformat": 4,
 "nbformat_minor": 2
}
